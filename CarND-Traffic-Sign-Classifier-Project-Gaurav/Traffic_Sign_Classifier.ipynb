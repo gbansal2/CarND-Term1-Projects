{
 "cells": [
  {
   "cell_type": "markdown",
   "metadata": {},
   "source": [
    "# Self-Driving Car Engineer Nanodegree\n",
    "\n",
    "## Deep Learning\n",
    "\n",
    "## Project: Build a Traffic Sign Recognition Classifier\n",
    "\n",
    "In this notebook, a template is provided for you to implement your functionality in stages, which is required to successfully complete this project. If additional code is required that cannot be included in the notebook, be sure that the Python code is successfully imported and included in your submission if necessary. \n",
    "\n",
    "> **Note**: Once you have completed all of the code implementations, you need to finalize your work by exporting the iPython Notebook as an HTML document. Before exporting the notebook to html, all of the code cells need to have been run so that reviewers can see the final implementation and output. You can then export the notebook by using the menu above and navigating to  \\n\",\n",
    "    \"**File -> Download as -> HTML (.html)**. Include the finished document along with this notebook as your submission. \n",
    "\n",
    "In addition to implementing code, there is a writeup to complete. The writeup should be completed in a separate file, which can be either a markdown file or a pdf document. There is a [write up template](https://github.com/udacity/CarND-Traffic-Sign-Classifier-Project/blob/master/writeup_template.md) that can be used to guide the writing process. Completing the code template and writeup template will cover all of the [rubric points](https://review.udacity.com/#!/rubrics/481/view) for this project.\n",
    "\n",
    "The [rubric](https://review.udacity.com/#!/rubrics/481/view) contains \"Stand Out Suggestions\" for enhancing the project beyond the minimum requirements. The stand out suggestions are optional. If you decide to pursue the \"stand out suggestions\", you can include the code in this Ipython notebook and also discuss the results in the writeup file.\n",
    "\n",
    "\n",
    ">**Note:** Code and Markdown cells can be executed using the **Shift + Enter** keyboard shortcut. In addition, Markdown cells can be edited by typically double-clicking the cell to enter edit mode."
   ]
  },
  {
   "cell_type": "markdown",
   "metadata": {},
   "source": [
    "---\n",
    "## Step 0: Load The Data"
   ]
  },
  {
   "cell_type": "code",
   "execution_count": 97,
   "metadata": {},
   "outputs": [],
   "source": [
    "# Load pickled data\n",
    "import pickle\n",
    "\n",
    "# TODO: Fill this in based on where you saved the training and testing data\n",
    "\n",
    "training_file = 'data/train.p'\n",
    "validation_file= 'data/valid.p'\n",
    "testing_file = 'data/test.p'\n",
    "\n",
    "with open(training_file, mode='rb') as f:\n",
    "    train = pickle.load(f)\n",
    "with open(validation_file, mode='rb') as f:\n",
    "    valid = pickle.load(f)\n",
    "with open(testing_file, mode='rb') as f:\n",
    "    test = pickle.load(f)\n",
    "    \n",
    "X_train, y_train = train['features'], train['labels']\n",
    "X_valid, y_valid = valid['features'], valid['labels']\n",
    "X_test, y_test = test['features'], test['labels']"
   ]
  },
  {
   "cell_type": "markdown",
   "metadata": {},
   "source": [
    "---\n",
    "\n",
    "## Step 1: Dataset Summary & Exploration\n",
    "\n",
    "The pickled data is a dictionary with 4 key/value pairs:\n",
    "\n",
    "- `'features'` is a 4D array containing raw pixel data of the traffic sign images, (num examples, width, height, channels).\n",
    "- `'labels'` is a 1D array containing the label/class id of the traffic sign. The file `signnames.csv` contains id -> name mappings for each id.\n",
    "- `'sizes'` is a list containing tuples, (width, height) representing the original width and height the image.\n",
    "- `'coords'` is a list containing tuples, (x1, y1, x2, y2) representing coordinates of a bounding box around the sign in the image. **THESE COORDINATES ASSUME THE ORIGINAL IMAGE. THE PICKLED DATA CONTAINS RESIZED VERSIONS (32 by 32) OF THESE IMAGES**\n",
    "\n",
    "Complete the basic data summary below. Use python, numpy and/or pandas methods to calculate the data summary rather than hard coding the results. For example, the [pandas shape method](http://pandas.pydata.org/pandas-docs/stable/generated/pandas.DataFrame.shape.html) might be useful for calculating some of the summary results. "
   ]
  },
  {
   "cell_type": "markdown",
   "metadata": {},
   "source": [
    "### Provide a Basic Summary of the Data Set Using Python, Numpy and/or Pandas"
   ]
  },
  {
   "cell_type": "code",
   "execution_count": 98,
   "metadata": {},
   "outputs": [
    {
     "name": "stdout",
     "output_type": "stream",
     "text": [
      "Number of training examples = 34799\n",
      "Number of validation examples = 4410\n",
      "Number of testing examples = 12630\n",
      "Image data shape = [32, 32]\n",
      "Number of classes = 43\n"
     ]
    }
   ],
   "source": [
    "### Replace each question mark with the appropriate value. \n",
    "### Use python, pandas or numpy methods rather than hard coding the results\n",
    "import csv\n",
    "import numpy as np\n",
    "\n",
    "# TODO: Number of training examples\n",
    "n_train = len(y_train)\n",
    "\n",
    "# TODO: Number of validation examples\n",
    "n_validation = len(y_valid)\n",
    "\n",
    "# TODO: Number of testing examples.\n",
    "n_test = len(y_test)\n",
    "\n",
    "# TODO: What's the shape of an traffic sign image\n",
    "image_shape = [X_train.shape[1],X_train.shape[2]]\n",
    "\n",
    "# TODO: How many unique classes/labels there are in the dataset.\n",
    "reader = csv.reader(open(\"data/signnames.csv\", \"rt\"), delimiter=\",\")\n",
    "signnames = list(reader)\n",
    "\n",
    "n_classes = len(signnames)-1 #-1 is for the header\n",
    "\n",
    "print(\"Number of training examples =\", n_train)\n",
    "print(\"Number of validation examples =\", n_validation)\n",
    "print(\"Number of testing examples =\", n_test)\n",
    "print(\"Image data shape =\", image_shape)\n",
    "print(\"Number of classes =\", n_classes)"
   ]
  },
  {
   "cell_type": "markdown",
   "metadata": {},
   "source": [
    "ptin### Include an exploratory visualization of the dataset"
   ]
  },
  {
   "cell_type": "markdown",
   "metadata": {},
   "source": [
    "Visualize the German Traffic Signs Dataset using the pickled file(s). This is open ended, suggestions include: plotting traffic sign images, plotting the count of each sign, etc. \n",
    "\n",
    "The [Matplotlib](http://matplotlib.org/) [examples](http://matplotlib.org/examples/index.html) and [gallery](http://matplotlib.org/gallery.html) pages are a great resource for doing visualizations in Python.\n",
    "\n",
    "**NOTE:** It's recommended you start with something simple first. If you wish to do more, come back to it after you've completed the rest of the sections. It can be interesting to look at the distribution of classes in the training, validation and test set. Is the distribution the same? Are there more examples of some classes than others?"
   ]
  },
  {
   "cell_type": "code",
   "execution_count": 99,
   "metadata": {},
   "outputs": [
    {
     "data": {
      "image/png": "[encoded data removed]",
      "text/plain": [
       "<matplotlib.figure.Figure at 0x7f7057359cc0>"
      ]
     },
     "metadata": {},
     "output_type": "display_data"
    },
    {
     "data": {
      "image/png": "[encoded data removed]",
      "text/plain": [
       "<matplotlib.figure.Figure at 0x7f70572c6128>"
      ]
     },
     "metadata": {},
     "output_type": "display_data"
    }
   ],
   "source": [
    "### Data exploration visualization code goes here.\n",
    "### Feel free to use as many code cells as needed.\n",
    "import matplotlib.pyplot as plt\n",
    "import matplotlib.image as mpimg\n",
    "# Visualizations will be shown in the notebook.\n",
    "%matplotlib inline\n",
    "\n",
    "# visualize 4 random images from training set\n",
    "from random import randint\n",
    "plt.figure(1)\n",
    "plt.subplot(221)\n",
    "plt.imshow(X_train[randint(0,n_train),:,:,:])\n",
    "plt.subplot(222)\n",
    "plt.imshow(X_train[randint(0,n_train),:,:,:])\n",
    "plt.subplot(223)\n",
    "plt.imshow(X_train[randint(0,n_train),:,:,:])\n",
    "plt.subplot(224)\n",
    "plt.imshow(X_train[randint(0,n_train),:,:,:])\n",
    "plt.savefig('sample_images.png')\n",
    "   \n",
    "import numpy as np\n",
    "\n",
    "plt.figure()\n",
    "plt.hist(y_train,bins=43,rwidth=0.8)\n",
    "plt.title(\"Histogram of n_classes\")\n",
    "plt.xlabel(\"Value\")\n",
    "plt.ylabel(\"Frequency\") \n",
    "plt.savefig('hist_nclasses.png')\n"
   ]
  },
  {
   "cell_type": "markdown",
   "metadata": {},
   "source": [
    "##### ----\n",
    "\n",
    "## Step 2: Design and Test a Model Architecture\n",
    "\n",
    "Design and implement a deep learning model that learns to recognize traffic signs. Train and test your model on the [German Traffic Sign Dataset](http://benchmark.ini.rub.de/?section=gtsrb&subsection=dataset).\n",
    "\n",
    "The LeNet-5 implementation shown in the [classroom](https://classroom.udacity.com/nanodegrees/nd013/parts/fbf77062-5703-404e-b60c-95b78b2f3f9e/modules/6df7ae49-c61c-4bb2-a23e-6527e69209ec/lessons/601ae704-1035-4287-8b11-e2c2716217ad/concepts/d4aca031-508f-4e0b-b493-e7b706120f81) at the end of the CNN lesson is a solid starting point. You'll have to change the number of classes and possibly the preprocessing, but aside from that it's plug and play! \n",
    "\n",
    "With the LeNet-5 solution from the lecture, you should expect a validation set accuracy of about 0.89. To meet specifications, the validation set accuracy will need to be at least 0.93. It is possible to get an even higher accuracy, but 0.93 is the minimum for a successful project submission. \n",
    "\n",
    "There are various aspects to consider when thinking about this problem:\n",
    "\n",
    "- Neural network architecture (is the network over or underfitting?)\n",
    "- Play around preprocessing techniques (normalization, rgb to grayscale, etc)\n",
    "- Number of examples per label (some have more than others).\n",
    "- Generate fake data.\n",
    "\n",
    "Here is an example of a [published baseline model on this problem](http://yann.lecun.com/exdb/publis/pdf/sermanet-ijcnn-11.pdf). It's not required to be familiar with the approach used in the paper but, it's good practice to try to read papers like these."
   ]
  },
  {
   "cell_type": "markdown",
   "metadata": {},
   "source": [
    "### Pre-process the Data Set (normalization, grayscale, etc.)"
   ]
  },
  {
   "cell_type": "markdown",
   "metadata": {},
   "source": [
    "Minimally, the image data should be normalized so that the data has mean zero and equal variance. For image data, `(pixel - 128)/ 128` is a quick way to approximately normalize the data and can be used in this project. \n",
    "\n",
    "Other pre-processing steps are optional. You can try different techniques to see if it improves performance. \n",
    "\n",
    "Use the code cell (or multiple code cells, if necessary) to implement the first step of your project."
   ]
  },
  {
   "cell_type": "code",
   "execution_count": 100,
   "metadata": {},
   "outputs": [
    {
     "data": {
      "image/png": "[encoded data removed]",
      "text/plain": [
       "<matplotlib.figure.Figure at 0x7f7056bdfeb8>"
      ]
     },
     "metadata": {},
     "output_type": "display_data"
    },
    {
     "data": {
      "image/png": "[encoded data removed]",
      "text/plain": [
       "<matplotlib.figure.Figure at 0x7f7056b164e0>"
      ]
     },
     "metadata": {},
     "output_type": "display_data"
    },
    {
     "data": {
      "image/png": "[encoded data removed]",
      "text/plain": [
       "<matplotlib.figure.Figure at 0x7f7056fae240>"
      ]
     },
     "metadata": {},
     "output_type": "display_data"
    },
    {
     "data": {
      "image/png": "[encoded data removed]",
      "text/plain": [
       "<matplotlib.figure.Figure at 0x7f7057491be0>"
      ]
     },
     "metadata": {},
     "output_type": "display_data"
    },
    {
     "data": {
      "image/png": "[encoded data removed]",
      "text/plain": [
       "<matplotlib.figure.Figure at 0x7f705638a828>"
      ]
     },
     "metadata": {},
     "output_type": "display_data"
    },
    {
     "data": {
      "image/png": "[encoded data removed]",
      "text/plain": [
       "<matplotlib.figure.Figure at 0x7f7056179e10>"
      ]
     },
     "metadata": {},
     "output_type": "display_data"
    },
    {
     "data": {
      "image/png": "[encoded data removed]",
      "text/plain": [
       "<matplotlib.figure.Figure at 0x7f7055d64a20>"
      ]
     },
     "metadata": {},
     "output_type": "display_data"
    },
    {
     "data": {
      "image/png": "[encoded data removed]",
      "text/plain": [
       "<matplotlib.figure.Figure at 0x7f7055d10a58>"
      ]
     },
     "metadata": {},
     "output_type": "display_data"
    },
    {
     "data": {
      "image/png": "[encoded data removed]",
      "text/plain": [
       "<matplotlib.figure.Figure at 0x7f7055e7ef98>"
      ]
     },
     "metadata": {},
     "output_type": "display_data"
    },
    {
     "data": {
      "image/png": "[encoded data removed]",
      "text/plain": [
       "<matplotlib.figure.Figure at 0x7f705638a668>"
      ]
     },
     "metadata": {},
     "output_type": "display_data"
    }
   ],
   "source": [
    "### Preprocess the data here. It is required to normalize the data. Other preprocessing steps could include \n",
    "### converting to grayscale, etc.\n",
    "### Feel free to use as many code cells as needed.\n",
    "import cv2\n",
    "import math\n",
    "\n",
    "from sklearn.utils import shuffle\n",
    "from random import randint\n",
    "\n",
    "def grayscale(img):\n",
    "    return cv2.cvtColor(img, cv2.COLOR_BGR2GRAY)\n",
    "\n",
    "\n",
    "X_train, y_train = shuffle(X_train, y_train)\n",
    "\n",
    "plt.figure(1)\n",
    "plt.subplot(121)\n",
    "plt.imshow(X_train[1200])\n",
    "\n",
    "for image in X_train:    \n",
    "    image = image.astype(np.float32)\n",
    "    avg_per_row = np.average(image,axis=0)\n",
    "    avg_image = np.average(avg_per_row,axis=0)\n",
    "    std_per_row = np.std(image,axis=0)\n",
    "    std_image = np.std(std_per_row,axis=0)\n",
    "    image[...] = (image - avg_image)/std_image\n",
    "    image_gray = grayscale(image)\n",
    "    image[:,:,0][...] = image_gray\n",
    "     \n",
    "        \n",
    "#apply gaussian smoothing\n",
    "#def gaussian_blur(img, kernel_size):\n",
    "#    \"\"\"Applies a Gaussian Noise kernel\"\"\"\n",
    "#    return cv2.GaussianBlur(img, (kernel_size, kernel_size),0)\n",
    "\n",
    "#for image in X_train:\n",
    "#    image = image.astype(np.float32)\n",
    "#    image[...] = gaussian_blur(image,15)\n",
    "\n",
    "    \n",
    "plt.subplot(122)\n",
    "plt.imshow(X_train[1200,:,:,0],cmap='gray')\n",
    "#plt.savefig('preprocessed_image.png')\n",
    "  \n",
    "for image in X_valid:    \n",
    "    image = image.astype(np.float32)\n",
    "    avg_per_row = np.average(image,axis=0)\n",
    "    avg_image = np.average(avg_per_row,axis=0)\n",
    "    std_per_row = np.std(image,axis=0)\n",
    "    std_image = np.std(std_per_row,axis=0)\n",
    "    #image[...] = (image - 128)/128\n",
    "    image[...] = (image - avg_image)/std_image\n",
    "    image_gray = grayscale(image)\n",
    "    image[:,:,0][...] = image_gray\n",
    "\n",
    "    \n",
    "for image in X_test:    \n",
    "    image = image.astype(np.float32)\n",
    "    avg_per_row = np.average(image,axis=0)\n",
    "    avg_image = np.average(avg_per_row,axis=0)\n",
    "    std_per_row = np.std(image,axis=0)\n",
    "    std_image = np.std(std_per_row,axis=0)\n",
    "    image[...] = (image - avg_image)/std_image\n",
    "    image_gray = grayscale(image)\n",
    "    image[:,:,0][...] = image_gray\n",
    "    \n",
    "    \n",
    "#Find number of images in each class to see if some classes are under-represented\n",
    "#count_train = np.zeros(n_classes)\n",
    "#for i in range (0,n_classes):\n",
    "#    count_i = 0\n",
    "#    for label in y_train:\n",
    "#        if (label == i):\n",
    "#            count_i = count_i + 1\n",
    "#    count_train[i] = count_i\n",
    "#print(count_train)\n",
    "#avg_count = sum(count_train)/len(count_train)\n",
    "\n",
    "#Add 10000 rotated images to the training set\n",
    "#Add 10000 images with Perspective transformation\n",
    "\n",
    "nextra = 20000\n",
    "\n",
    "X_train, y_train = shuffle(X_train, y_train)\n",
    "X_train.resize(n_train+nextra,32,32,3)\n",
    "y_train.resize(n_train+nextra,1)\n",
    "\n",
    "imgt = X_train[5999]\n",
    "\n",
    "plt.figure(2)\n",
    "plt.subplot(121)\n",
    "plt.imshow(imgt[:,:,0],cmap='gray')\n",
    "\n",
    "rows,cols,channels = imgt.shape\n",
    "M = cv2.getRotationMatrix2D((cols/2,rows/2),15,1)\n",
    "rot_imgt = cv2.warpAffine(imgt,M,(rows,cols))\n",
    "\n",
    "plt.subplot(122)\n",
    "plt.imshow(rot_imgt[:,:,0],cmap='gray')\n",
    "#plt.savefig('rot_imgt.png')\n",
    "\n",
    "plt.figure(3)\n",
    "plt.subplot(121)\n",
    "plt.imshow(imgt[:,:,0],cmap='gray')\n",
    "\n",
    "pts1 = np.float32([[4,4],[28,4],[4,28],[28,28]])\n",
    "pts2 = np.float32([[0,0],[32,0],[0,32],[32,32]])\n",
    "M = cv2.getPerspectiveTransform(pts1,pts2)\n",
    "pers_imgt = cv2.warpPerspective(imgt,M,(rows,cols))\n",
    "\n",
    "plt.subplot(122)\n",
    "plt.imshow(pers_imgt[:,:,0],cmap='gray')\n",
    "#plt.savefig('pers_imgt.png')\n",
    "\n",
    "plt.figure(4)\n",
    "plt.subplot(121)\n",
    "plt.imshow(imgt[:,:,0],cmap='gray')\n",
    "\n",
    "M = np.float32([[1,0,8],[0,1,8]])\n",
    "trans_imgt = cv2.warpAffine(imgt,M,(rows,cols))\n",
    "\n",
    "plt.subplot(122)\n",
    "plt.imshow(trans_imgt[:,:,0],cmap='gray')\n",
    "#plt.savefig('trans_imgt.png')\n",
    "\n",
    "\n",
    "\n",
    "for i in range (0,nextra):\n",
    "    image = X_train[i]\n",
    "    label = y_train[i]\n",
    "    rows,cols,channels = image.shape\n",
    "    M = cv2.getRotationMatrix2D((cols/2,rows/2),randint(-15,15),1)\n",
    "    rot_image = cv2.warpAffine(image,M,(rows,cols))\n",
    "    X_train[n_train + i] = rot_image\n",
    "    y_train[n_train + i] = label\n",
    "    \n",
    "\n",
    "    \n",
    "n_train = n_train + nextra\n",
    "\n",
    "X_train, y_train = shuffle(X_train, y_train)\n",
    "X_train.resize(n_train+nextra,32,32,3)\n",
    "y_train.resize(n_train+nextra,1)\n",
    "\n",
    "for i in range (0,nextra):\n",
    "    image = X_train[i]\n",
    "    label = y_train[i]\n",
    "    rows,cols,channels = image.shape\n",
    "    pts1 = np.float32([[4,4],[28,4],[4,28],[28,28]])\n",
    "    pts2 = np.float32([[0,0],[32,0],[0,32],[32,32]])\n",
    "    M = cv2.getPerspectiveTransform(pts1,pts2)\n",
    "    pers_image = cv2.warpPerspective(image,M,(rows,cols))\n",
    "    X_train[n_train + i] = pers_image\n",
    "    y_train[n_train + i] = label\n",
    "    \n",
    "   \n",
    "n_train = n_train + nextra\n",
    "\n",
    "X_train, y_train = shuffle(X_train, y_train)\n",
    "X_train.resize(n_train+nextra,32,32,3)\n",
    "y_train.resize(n_train+nextra,1)\n",
    "\n",
    "for i in range (0,nextra):\n",
    "    image = X_train[i]\n",
    "    label = y_train[i]\n",
    "    rows,cols,channels = image.shape\n",
    "    M = np.float32([[1,0,8],[0,1,8]])\n",
    "    trans_image = cv2.warpAffine(image,M,(rows,cols))\n",
    "    X_train[n_train + i] = trans_image\n",
    "    y_train[n_train + i] = label\n",
    "\n",
    "    \n",
    "n_train = n_train + nextra\n",
    "\n",
    "# visualize 5 random images from training set\n",
    "from random import randint\n",
    "for x in range (0, 5):\n",
    "    plt.figure()\n",
    "    plt.imshow(X_train[randint(0,n_train),:,:,0],cmap='gray')\n",
    "    \n",
    "    \n",
    "plt.figure()\n",
    "plt.hist(y_train,bins=43,rwidth=0.8)\n",
    "plt.title(\"Histogram of n_classes\")\n",
    "plt.xlabel(\"Value\")\n",
    "plt.ylabel(\"Frequency\") \n",
    "plt.savefig('hist_nclasses_postaugmentation.png')"
   ]
  },
  {
   "cell_type": "markdown",
   "metadata": {},
   "source": [
    "### Model Architecture"
   ]
  },
  {
   "cell_type": "code",
   "execution_count": 104,
   "metadata": {},
   "outputs": [
    {
     "name": "stdout",
     "output_type": "stream",
     "text": [
      "[42]\n"
     ]
    }
   ],
   "source": [
    "print(max(y_train))"
   ]
  },
  {
   "cell_type": "code",
   "execution_count": 107,
   "metadata": {
    "collapsed": true
   },
   "outputs": [],
   "source": [
    "### Define your architecture here.\n",
    "### Feel free to use as many code cells as needed.\n",
    "\n",
    "\n",
    "import tensorflow as tf\n",
    "\n",
    "#EPOCHS = 10\n",
    "#BATCH_SIZE = 128\n",
    "EPOCHS = 20\n",
    "BATCH_SIZE = 128\n",
    "\n",
    "from tensorflow.contrib.layers import flatten\n",
    "\n",
    "#Note y is 32 x 32 x 3\n",
    "def LeNet(x):    \n",
    "    # Arguments used for tf.truncated_normal, randomly defines variables for the weights and biases for each layer\n",
    "    mu = 0\n",
    "    sigma = 0.1\n",
    "    \n",
    "    # SOLUTION: Layer 1: Convolutional. Input = 32x32x1. Output = 28x28x6.\n",
    "    #conv1_W = tf.Variable(tf.truncated_normal(shape=(5, 5, 1, 6), mean = mu, stddev = sigma))\n",
    "    conv1_W = tf.Variable(tf.truncated_normal(shape=(5, 5, 1, 24), mean = mu, stddev = sigma))\n",
    "    #conv1_b = tf.Variable(tf.zeros(6))\n",
    "    conv1_b = tf.Variable(tf.zeros(24))\n",
    "    conv1   = tf.nn.conv2d(x, conv1_W, strides=[1, 1, 1, 1], padding='VALID') + conv1_b\n",
    "\n",
    "    # SOLUTION: Activation.\n",
    "    conv1 = tf.nn.relu(conv1)\n",
    "\n",
    "    # SOLUTION: Pooling. Input = 28x28x6. Output = 14x14x6.\n",
    "    conv1 = tf.nn.max_pool(conv1, ksize=[1, 2, 2, 1], strides=[1, 2, 2, 1], padding='VALID')\n",
    "\n",
    "    # SOLUTION: Layer 2: Convolutional. Output = 10x10x16.\n",
    "    #conv2_W = tf.Variable(tf.truncated_normal(shape=(5, 5, 6, 16), mean = mu, stddev = sigma))\n",
    "    #conv2_b = tf.Variable(tf.zeros(16))\n",
    "    conv2_W = tf.Variable(tf.truncated_normal(shape=(5, 5, 24, 48), mean = mu, stddev = sigma))\n",
    "    conv2_b = tf.Variable(tf.zeros(48))\n",
    "    conv2   = tf.nn.conv2d(conv1, conv2_W, strides=[1, 1, 1, 1], padding='VALID') + conv2_b\n",
    "    \n",
    "    # SOLUTION: Activation.\n",
    "    conv2 = tf.nn.relu(conv2)\n",
    "\n",
    "    # SOLUTION: Pooling. Input = 10x10x16. Output = 5x5x16.\n",
    "    conv2 = tf.nn.max_pool(conv2, ksize=[1, 2, 2, 1], strides=[1, 2, 2, 1], padding='VALID')\n",
    "    \n",
    "    #New Convolutional Layer\n",
    "    #conv3_W = tf.Variable(tf.truncated_normal(shape=(5, 5, 48, 64), mean = mu, stddev = sigma))\n",
    "    #conv3_b = tf.Variable(tf.zeros(64))\n",
    "    #conv3   = tf.nn.conv2d(conv2, conv3_W, strides=[1, 1, 1, 1], padding='SAME') + conv3_b\n",
    "    \n",
    "    # SOLUTION: Activation.\n",
    "    #conv3 = tf.nn.relu(conv3)\n",
    "\n",
    "    # SOLUTION: Pooling. Input = 10x10x16. Output = 5x5x16.\n",
    "    #conv3 = tf.nn.max_pool(conv3, ksize=[1, 2, 2, 1], strides=[1, 2, 2, 1], padding='VALID')\n",
    "    \n",
    "\n",
    "    # SOLUTION: Flatten. Input = 5x5x16. Output = 400.\n",
    "    fc0   = flatten(conv2)\n",
    "    #fc0   = flatten(conv3)\n",
    "    \n",
    "    # SOLUTION: Layer 3: Fully Connected. Input = 400. Output = 120.\n",
    "    #fc1_W = tf.Variable(tf.truncated_normal(shape=(400, 120), mean = mu, stddev = sigma))\n",
    "    fc1_W = tf.Variable(tf.truncated_normal(shape=(1200, 240), mean = mu, stddev = sigma))\n",
    "    fc1_b = tf.Variable(tf.zeros(240))\n",
    "    fc1   = tf.matmul(fc0, fc1_W) + fc1_b\n",
    "    \n",
    "    # SOLUTION: Activation.\n",
    "    fc1    = tf.nn.relu(fc1)\n",
    "\n",
    "    # SOLUTION: Layer 4: Fully Connected. Input = 120. Output = 84.\n",
    "    #fc2_W  = tf.Variable(tf.truncated_normal(shape=(120, 84), mean = mu, stddev = sigma))\n",
    "    fc2_W  = tf.Variable(tf.truncated_normal(shape=(240, 168), mean = mu, stddev = sigma))\n",
    "    #fc2_b  = tf.Variable(tf.zeros(84))\n",
    "    fc2_b  = tf.Variable(tf.zeros(168))\n",
    "    fc2    = tf.matmul(fc1, fc2_W) + fc2_b\n",
    "    \n",
    "    # SOLUTION: Activation.\n",
    "    fc2    = tf.nn.relu(fc2)\n",
    "\n",
    "    # SOLUTION: Layer 5: Fully Connected. Input = 84. Output = n_classes.\n",
    "    #fc3_W  = tf.Variable(tf.truncated_normal(shape=(84, n_classes), mean = mu, stddev = sigma))\n",
    "    fc3_W  = tf.Variable(tf.truncated_normal(shape=(168, n_classes), mean = mu, stddev = sigma))\n",
    "    fc3_b  = tf.Variable(tf.zeros(n_classes))\n",
    "    logits = tf.matmul(fc2, fc3_W) + fc3_b\n",
    "    \n",
    "    return logits"
   ]
  },
  {
   "cell_type": "markdown",
   "metadata": {},
   "source": [
    "### Train, Validate and Test the Model"
   ]
  },
  {
   "cell_type": "markdown",
   "metadata": {},
   "source": [
    "A validation set can be used to assess how well the model is performing. A low accuracy on the training and validation\n",
    "sets imply underfitting. A high accuracy on the training set but low accuracy on the validation set implies overfitting."
   ]
  },
  {
   "cell_type": "code",
   "execution_count": 113,
   "metadata": {},
   "outputs": [
    {
     "name": "stdout",
     "output_type": "stream",
     "text": [
      "Training...\n",
      "EPOCH 1 ...\n",
      "Validation Accuracy = 0.794\n",
      "\n",
      "EPOCH 2 ...\n",
      "Validation Accuracy = 0.859\n",
      "\n",
      "EPOCH 3 ...\n",
      "Validation Accuracy = 0.870\n",
      "\n",
      "EPOCH 4 ...\n",
      "Validation Accuracy = 0.903\n",
      "\n",
      "EPOCH 5 ...\n",
      "Validation Accuracy = 0.903\n",
      "\n",
      "EPOCH 6 ...\n",
      "Validation Accuracy = 0.905\n",
      "\n",
      "EPOCH 7 ...\n",
      "Validation Accuracy = 0.906\n",
      "\n",
      "EPOCH 8 ...\n",
      "Validation Accuracy = 0.914\n",
      "\n",
      "EPOCH 9 ...\n",
      "Validation Accuracy = 0.916\n",
      "\n",
      "EPOCH 10 ...\n",
      "Validation Accuracy = 0.920\n",
      "\n",
      "EPOCH 11 ...\n",
      "Validation Accuracy = 0.920\n",
      "\n",
      "EPOCH 12 ...\n",
      "Validation Accuracy = 0.928\n",
      "\n",
      "EPOCH 13 ...\n",
      "Validation Accuracy = 0.932\n",
      "\n",
      "Model saved\n"
     ]
    }
   ],
   "source": [
    "### Train your model here.\n",
    "### Calculate and report the accuracy on the training and validation set.\n",
    "### Once a final model architecture is selected, \n",
    "### the accuracy on the test set should be calculated and reported as well.\n",
    "### Feel free to use as many code cells as needed.\n",
    "\n",
    "x = tf.placeholder(tf.float32, (None, 32, 32, 1))\n",
    "#x = tf.placeholder(tf.float32, (None, 32, 32, 3))\n",
    "y = tf.placeholder(tf.int32, (None))\n",
    "one_hot_y = tf.one_hot(y, n_classes)\n",
    "\n",
    "rate = 0.00075\n",
    "\n",
    "logits = LeNet(x)\n",
    "cross_entropy = tf.nn.softmax_cross_entropy_with_logits(labels=one_hot_y, logits=logits)\n",
    "loss_operation = tf.reduce_mean(cross_entropy)\n",
    "optimizer = tf.train.AdamOptimizer(learning_rate = rate)\n",
    "training_operation = optimizer.minimize(loss_operation)\n",
    "\n",
    "correct_prediction = tf.equal(tf.argmax(logits, 1), tf.argmax(one_hot_y, 1))\n",
    "accuracy_operation = tf.reduce_mean(tf.cast(correct_prediction, tf.float32))\n",
    "saver = tf.train.Saver()\n",
    "\n",
    "def evaluate(X_data, y_data):\n",
    "    num_examples = len(X_data)\n",
    "    total_accuracy = 0\n",
    "    sess = tf.get_default_session()\n",
    "    for offset in range(0, num_examples, BATCH_SIZE):\n",
    "        batch_x, batch_y = X_data[offset:offset+BATCH_SIZE], y_data[offset:offset+BATCH_SIZE]\n",
    "        accuracy = sess.run(accuracy_operation, feed_dict={x: batch_x, y: batch_y})\n",
    "        total_accuracy += (accuracy * len(batch_x))\n",
    "    return total_accuracy / num_examples\n",
    "\n",
    "X_train=np.expand_dims(X_train[:,:,:,0],axis=4)\n",
    "X_valid=np.expand_dims(X_valid[:,:,:,0],axis=4)\n",
    "X_test=np.expand_dims(X_test[:,:,:,0],axis=4)\n",
    "\n",
    "with tf.Session() as sess:\n",
    "    sess.run(tf.global_variables_initializer())\n",
    "    num_examples = n_train\n",
    "    \n",
    "    print(\"Training...\")\n",
    "   \n",
    "    for i in range(EPOCHS):\n",
    "        X_train, y_train = shuffle(X_train, y_train)\n",
    "        \n",
    "        for offset in range(0, num_examples, BATCH_SIZE):\n",
    "            end = offset + BATCH_SIZE\n",
    "            batch_x, batch_y = X_train[offset:end], y_train[offset:end]\n",
    "            sess.run(training_operation, feed_dict={x: batch_x, y: batch_y})\n",
    "            \n",
    "        #training_accuracy = evaluate(X_train, y_train)\n",
    "        validation_accuracy = evaluate(X_valid, y_valid)\n",
    "        print(\"EPOCH {} ...\".format(i+1))\n",
    "        #print(\"Training Accuracy = {:.3f}\".format(training_accuracy))\n",
    "        print(\"Validation Accuracy = {:.3f}\".format(validation_accuracy))\n",
    "        print()\n",
    "        \n",
    "        if (validation_accuracy > 0.93):\n",
    "            break\n",
    "        \n",
    "    saver.save(sess, './lenet')\n",
    "    print(\"Model saved\")\n"
   ]
  },
  {
   "cell_type": "markdown",
   "metadata": {},
   "source": [
    "---\n",
    "\n",
    "## Step 3: Test a Model on New Images\n",
    "\n",
    "To give yourself more insight into how your model is working, download at least five pictures of German traffic signs from the web and use your model to predict the traffic sign type.\n",
    "\n",
    "You may find `signnames.csv` useful as it contains mappings from the class id (integer) to the actual sign name."
   ]
  },
  {
   "cell_type": "raw",
   "metadata": {},
   "source": []
  },
  {
   "cell_type": "markdown",
   "metadata": {},
   "source": [
    "### Load and Output the Images"
   ]
  },
  {
   "cell_type": "code",
   "execution_count": 136,
   "metadata": {},
   "outputs": [
    {
     "name": "stdout",
     "output_type": "stream",
     "text": [
      "(12630, 32, 32, 1)\n"
     ]
    },
    {
     "data": {
      "image/png": "[encoded data removed]",
      "text/plain": [
       "<matplotlib.figure.Figure at 0x7f705102c6a0>"
      ]
     },
     "metadata": {},
     "output_type": "display_data"
    }
   ],
   "source": [
    "### Load the images and plot them here.\n",
    "### Feel free to use as many code cells as needed.\n",
    "\n",
    "test_sample = np.zeros(5)\n",
    "\n",
    "# visualize 5 random images from test set\n",
    "from random import randint\n",
    "for x_ in range (0, 5):\n",
    "    idx = randint(0,n_test)\n",
    "    test_sample[x_] = idx\n",
    "\n",
    "print(X_test.shape)\n",
    "    \n",
    "plt.figure(1)\n",
    "plt.subplot(151)\n",
    "idx = int(test_sample[0])\n",
    "plt.imshow(X_test[idx,:,:,0],cmap='gray')\n",
    "plt.subplot(152)\n",
    "idx = int(test_sample[1])\n",
    "plt.imshow(X_test[idx,:,:,0],cmap='gray')\n",
    "plt.subplot(153)\n",
    "idx = int(test_sample[2])\n",
    "plt.imshow(X_test[idx,:,:,0],cmap='gray')\n",
    "plt.subplot(154)\n",
    "idx = int(test_sample[3])\n",
    "plt.imshow(X_test[idx,:,:,0],cmap='gray')\n",
    "plt.subplot(155)\n",
    "idx = int(test_sample[4])\n",
    "plt.imshow(X_test[idx,:,:,0],cmap='gray')\n",
    "plt.savefig('testing_images.png')\n"
   ]
  },
  {
   "cell_type": "markdown",
   "metadata": {},
   "source": [
    "### Predict the Sign Type for Each Image"
   ]
  },
  {
   "cell_type": "code",
   "execution_count": 143,
   "metadata": {},
   "outputs": [
    {
     "name": "stdout",
     "output_type": "stream",
     "text": [
      "(4410, 32, 32, 1)\n",
      "(4410,)\n",
      "(94799, 32, 32, 1)\n",
      "(94799,)\n",
      "94799\n",
      "Training Accuracy = 0.985\n",
      "Validation Accuracy = 0.932\n",
      "Testing Accuracy = 0.911\n",
      "For image sample 7707, predicted sign is  Testing Accuracy = 1.000\n",
      ".. predicted sign is ...\n",
      "['4', 'Speed limit (70km/h)']\n",
      "For image sample 10045, predicted sign is  Testing Accuracy = 0.000\n",
      ".. predicted sign is ...\n",
      "['5', 'Speed limit (80km/h)']\n",
      "For image sample 9642, predicted sign is  Testing Accuracy = 1.000\n",
      ".. predicted sign is ...\n",
      "['14', 'Stop']\n",
      "For image sample 6837, predicted sign is  Testing Accuracy = 1.000\n",
      ".. predicted sign is ...\n",
      "['1', 'Speed limit (30km/h)']\n",
      "For image sample 11466, predicted sign is  Testing Accuracy = 1.000\n",
      ".. predicted sign is ...\n",
      "['12', 'Priority road']\n"
     ]
    }
   ],
   "source": [
    "### Run the predictions here and use the model to output the prediction for each image.\n",
    "### Make sure to pre-process the images with the same pre-processing pipeline used earlier.\n",
    "### Feel free to use as many code cells as needed.\n",
    "\n",
    "prediction = tf.argmax(logits, 1)\n",
    "\n",
    "tot_accuracy = 0.0\n",
    "print(X_valid.shape)\n",
    "print(y_valid.shape)\n",
    "print(X_train.shape)\n",
    "print(y_train.shape)\n",
    "print(n_train)\n",
    "y_train.resize(n_train,)\n",
    "\n",
    "with tf.Session() as sess:\n",
    "    sess.run(tf.global_variables_initializer())  \n",
    "    saver.restore(sess,'./lenet')\n",
    "    validation_accuracy = evaluate(X_valid, y_valid)\n",
    "    training_accuracy = evaluate(X_train, y_train)\n",
    "    testing_accuracy = evaluate(X_test, y_test)\n",
    "    print(\"Training Accuracy = {:.3f}\".format(training_accuracy))\n",
    "    print(\"Validation Accuracy = {:.3f}\".format(validation_accuracy))\n",
    "    print(\"Testing Accuracy = {:.3f}\".format(testing_accuracy))\n",
    "\n",
    "for i in test_sample:\n",
    "    idx = int(i)\n",
    "    idx2 = idx+1\n",
    "    with tf.Session() as sess:\n",
    "        sess.run(tf.global_variables_initializer())  \n",
    "        saver.restore(sess,'./lenet')\n",
    "        predicted_sign = sess.run(prediction, feed_dict={x: X_test[idx:idx2]})\n",
    "        test_accuracy = evaluate(X_test[idx:idx2],y_test[idx:idx2])\n",
    "        tot_accuracy = tot_accuracy + float(test_accuracy)\n",
    "        \n",
    "    print(\"For image sample {:d}, predicted sign is  Testing Accuracy = {:.3f}\".format(idx,test_accuracy)),\n",
    "    print(\".. predicted sign is ...\"),\n",
    "    print(signnames[int(predicted_sign)+1])\n",
    "   "
   ]
  },
  {
   "cell_type": "markdown",
   "metadata": {},
   "source": [
    "### Analyze Performance"
   ]
  },
  {
   "cell_type": "code",
   "execution_count": 144,
   "metadata": {},
   "outputs": [
    {
     "name": "stdout",
     "output_type": "stream",
     "text": [
      "80.0\n"
     ]
    }
   ],
   "source": [
    "### Calculate the accuracy for these 5 new images. \n",
    "### For example, if the model predicted 1 out of 5 signs correctly, it's 20% accurate on these new images.\n",
    "\n",
    "percent_accuracy = tot_accuracy/5 * 100\n",
    "print(percent_accuracy)"
   ]
  },
  {
   "cell_type": "markdown",
   "metadata": {},
   "source": [
    "### Output Top 5 Softmax Probabilities For Each Image Found on the Web"
   ]
  },
  {
   "cell_type": "markdown",
   "metadata": {},
   "source": [
    "For each of the new images, print out the model's softmax probabilities to show the **certainty** of the model's predictions (limit the output to the top 5 probabilities for each image). [`tf.nn.top_k`](https://www.tensorflow.org/versions/r0.12/api_docs/python/nn.html#top_k) could prove helpful here. \n",
    "\n",
    "The example below demonstrates how tf.nn.top_k can be used to find the top k predictions for each image.\n",
    "\n",
    "`tf.nn.top_k` will return the values and indices (class ids) of the top k predictions. So if k=3, for each sign, it'll return the 3 largest probabilities (out of a possible 43) and the correspoding class ids.\n",
    "\n",
    "Take this numpy array as an example. The values in the array represent predictions. The array contains softmax probabilities for five candidate images with six possible classes. `tk.nn.top_k` is used to choose the three classes with the highest probability:\n",
    "\n",
    "```\n",
    "# (5, 6) array\n",
    "a = np.array([[ 0.24879643,  0.07032244,  0.12641572,  0.34763842,  0.07893497,\n",
    "         0.12789202],\n",
    "       [ 0.28086119,  0.27569815,  0.08594638,  0.0178669 ,  0.18063401,\n",
    "         0.15899337],\n",
    "       [ 0.26076848,  0.23664738,  0.08020603,  0.07001922,  0.1134371 ,\n",
    "         0.23892179],\n",
    "       [ 0.11943333,  0.29198961,  0.02605103,  0.26234032,  0.1351348 ,\n",
    "         0.16505091],\n",
    "       [ 0.09561176,  0.34396535,  0.0643941 ,  0.16240774,  0.24206137,\n",
    "         0.09155967]])\n",
    "```\n",
    "\n",
    "Running it through `sess.run(tf.nn.top_k(tf.constant(a), k=3))` produces:\n",
    "\n",
    "```\n",
    "TopKV2(values=array([[ 0.34763842,  0.24879643,  0.12789202],\n",
    "       [ 0.28086119,  0.27569815,  0.18063401],\n",
    "       [ 0.26076848,  0.23892179,  0.23664738],\n",
    "       [ 0.29198961,  0.26234032,  0.16505091],\n",
    "       [ 0.34396535,  0.24206137,  0.16240774]]), indices=array([[3, 0, 5],\n",
    "       [0, 1, 4],\n",
    "       [0, 5, 1],\n",
    "       [1, 3, 5],\n",
    "       [1, 4, 3]], dtype=int32))\n",
    "```\n",
    "\n",
    "Looking just at the first row we get `[ 0.34763842,  0.24879643,  0.12789202]`, you can confirm these are the 3 largest probabilities in `a`. You'll also notice `[3, 0, 5]` are the corresponding indices."
   ]
  },
  {
   "cell_type": "code",
   "execution_count": 146,
   "metadata": {},
   "outputs": [
    {
     "name": "stdout",
     "output_type": "stream",
     "text": [
      "TopKV2(values=array([[  1.00000000e+00,   8.75768902e-10,   8.27495851e-18,\n",
      "          3.57787862e-20,   7.88174028e-22]], dtype=float32), indices=array([[4, 0, 1, 8, 7]], dtype=int32))\n",
      "TopKV2(values=array([[ 0.56742024,  0.14815648,  0.087469  ,  0.07023293,  0.04088632]], dtype=float32), indices=array([[ 5, 40,  1,  2,  8]], dtype=int32))\n",
      "TopKV2(values=array([[  1.00000000e+00,   3.53753881e-23,   1.39664742e-25,\n",
      "          2.58132872e-28,   6.37091005e-29]], dtype=float32), indices=array([[14, 17,  4,  5, 13]], dtype=int32))\n",
      "TopKV2(values=array([[  1.00000000e+00,   1.93647053e-20,   1.88926146e-20,\n",
      "          3.09336879e-23,   9.83334840e-27]], dtype=float32), indices=array([[1, 5, 2, 0, 6]], dtype=int32))\n",
      "TopKV2(values=array([[  1.00000000e+00,   5.43675660e-10,   9.60820312e-11,\n",
      "          4.72825668e-11,   1.19804253e-11]], dtype=float32), indices=array([[12,  1, 17, 14, 15]], dtype=int32))\n"
     ]
    }
   ],
   "source": [
    "### Print out the top five softmax probabilities for the predictions on the German traffic sign images found on the web. \n",
    "### Feel free to use as many code cells as needed.\n",
    "\n",
    "softmax_logits = tf.nn.softmax(logits)\n",
    "\n",
    "\n",
    "for i in test_sample:\n",
    "    idx = int(i)\n",
    "    idx2 = idx+1\n",
    "    with tf.Session() as sess:\n",
    "        sess.run(tf.global_variables_initializer())  \n",
    "        saver.restore(sess,'./lenet')\n",
    "        softmax_out = sess.run(softmax_logits, feed_dict={x: X_test[idx:idx2]})\n",
    "        print(sess.run(tf.nn.top_k(tf.constant(softmax_out),k=5)))"
   ]
  },
  {
   "cell_type": "markdown",
   "metadata": {},
   "source": [
    "### Project Writeup\n",
    "\n",
    "Once you have completed the code implementation, document your results in a project writeup using this [template](https://github.com/udacity/CarND-Traffic-Sign-Classifier-Project/blob/master/writeup_template.md) as a guide. The writeup can be in a markdown or pdf file. "
   ]
  },
  {
   "cell_type": "markdown",
   "metadata": {},
   "source": [
    "> **Note**: Once you have completed all of the code implementations and successfully answered each question above, you may finalize your work by exporting the iPython Notebook as an HTML document. You can do this by using the menu above and navigating to  \\n\",\n",
    "    \"**File -> Download as -> HTML (.html)**. Include the finished document along with this notebook as your submission."
   ]
  },
  {
   "cell_type": "markdown",
   "metadata": {},
   "source": [
    "---\n",
    "\n",
    "## Step 4 (Optional): Visualize the Neural Network's State with Test Images\n",
    "\n",
    " This Section is not required to complete but acts as an additional excersise for understaning the output of a neural network's weights. While neural networks can be a great learning device they are often referred to as a black box. We can understand what the weights of a neural network look like better by plotting their feature maps. After successfully training your neural network you can see what it's feature maps look like by plotting the output of the network's weight layers in response to a test stimuli image. From these plotted feature maps, it's possible to see what characteristics of an image the network finds interesting. For a sign, maybe the inner network feature maps react with high activation to the sign's boundary outline or to the contrast in the sign's painted symbol.\n",
    "\n",
    " Provided for you below is the function code that allows you to get the visualization output of any tensorflow weight layer you want. The inputs to the function should be a stimuli image, one used during training or a new one you provided, and then the tensorflow variable name that represents the layer's state during the training process, for instance if you wanted to see what the [LeNet lab's](https://classroom.udacity.com/nanodegrees/nd013/parts/fbf77062-5703-404e-b60c-95b78b2f3f9e/modules/6df7ae49-c61c-4bb2-a23e-6527e69209ec/lessons/601ae704-1035-4287-8b11-e2c2716217ad/concepts/d4aca031-508f-4e0b-b493-e7b706120f81) feature maps looked like for it's second convolutional layer you could enter conv2 as the tf_activation variable.\n",
    "\n",
    "For an example of what feature map outputs look like, check out NVIDIA's results in their paper [End-to-End Deep Learning for Self-Driving Cars](https://devblogs.nvidia.com/parallelforall/deep-learning-self-driving-cars/) in the section Visualization of internal CNN State. NVIDIA was able to show that their network's inner weights had high activations to road boundary lines by comparing feature maps from an image with a clear path to one without. Try experimenting with a similar test to show that your trained network's weights are looking for interesting features, whether it's looking at differences in feature maps from images with or without a sign, or even what feature maps look like in a trained network vs a completely untrained one on the same sign image.\n",
    "\n",
    "<figure>\n",
    " <img src=\"visualize_cnn.png\" width=\"380\" alt=\"Combined Image\" />\n",
    " <figcaption>\n",
    " <p></p> \n",
    " <p style=\"text-align: center;\"> Your output should look something like this (above)</p> \n",
    " </figcaption>\n",
    "</figure>\n",
    " <p></p> \n"
   ]
  },
  {
   "cell_type": "code",
   "execution_count": null,
   "metadata": {
    "collapsed": true
   },
   "outputs": [],
   "source": [
    "### Visualize your network's feature maps here.\n",
    "### Feel free to use as many code cells as needed.\n",
    "\n",
    "# image_input: the test image being fed into the network to produce the feature maps\n",
    "# tf_activation: should be a tf variable name used during your training procedure that represents the calculated state of a specific weight layer\n",
    "# activation_min/max: can be used to view the activation contrast in more detail, by default matplot sets min and max to the actual min and max values of the output\n",
    "# plt_num: used to plot out multiple different weight feature map sets on the same block, just extend the plt number for each new feature map entry\n",
    "\n",
    "def outputFeatureMap(image_input, tf_activation, activation_min=-1, activation_max=-1 ,plt_num=1):\n",
    "    # Here make sure to preprocess your image_input in a way your network expects\n",
    "    # with size, normalization, ect if needed\n",
    "    # image_input =\n",
    "    # Note: x should be the same name as your network's tensorflow data placeholder variable\n",
    "    # If you get an error tf_activation is not defined it may be having trouble accessing the variable from inside a function\n",
    "    activation = tf_activation.eval(session=sess,feed_dict={x : image_input})\n",
    "    featuremaps = activation.shape[3]\n",
    "    plt.figure(plt_num, figsize=(15,15))\n",
    "    for featuremap in range(featuremaps):\n",
    "        plt.subplot(6,8, featuremap+1) # sets the number of feature maps to show on each row and column\n",
    "        plt.title('FeatureMap ' + str(featuremap)) # displays the feature map number\n",
    "        if activation_min != -1 & activation_max != -1:\n",
    "            plt.imshow(activation[0,:,:, featuremap], interpolation=\"nearest\", vmin =activation_min, vmax=activation_max, cmap=\"gray\")\n",
    "        elif activation_max != -1:\n",
    "            plt.imshow(activation[0,:,:, featuremap], interpolation=\"nearest\", vmax=activation_max, cmap=\"gray\")\n",
    "        elif activation_min !=-1:\n",
    "            plt.imshow(activation[0,:,:, featuremap], interpolation=\"nearest\", vmin=activation_min, cmap=\"gray\")\n",
    "        else:\n",
    "            plt.imshow(activation[0,:,:, featuremap], interpolation=\"nearest\", cmap=\"gray\")"
   ]
  }
 ],
 "metadata": {
  "anaconda-cloud": {},
  "kernelspec": {
   "display_name": "Python 3",
   "language": "python",
   "name": "python3"
  },
  "language_info": {
   "codemirror_mode": {
    "name": "ipython",
    "version": 3
   },
   "file_extension": ".py",
   "mimetype": "text/x-python",
   "name": "python",
   "nbconvert_exporter": "python",
   "pygments_lexer": "ipython3",
   "version": "3.5.2"
  },
  "widgets": {
   "state": {},
   "version": "1.1.2"
  }
 },
 "nbformat": 4,
 "nbformat_minor": 1
}
